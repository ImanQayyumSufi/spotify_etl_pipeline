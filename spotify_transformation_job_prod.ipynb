{
	"cells": [
		{
			"cell_type": "code",
			"execution_count": null,
			"metadata": {
				"editable": true,
				"trusted": true,
				"vscode": {
					"languageId": "python_glue_session"
				}
			},
			"outputs": [],
			"source": [
				"%idle_timeout 2880\n",
				"%glue_version 4.0\n",
				"%worker_type G.1X\n",
				"%number_of_workers 2\n",
				"\n",
				"import sys\n",
				"from awsglue.transforms import *\n",
				"from awsglue.utils import getResolvedOptions\n",
				"from pyspark.context import SparkContext\n",
				"from awsglue.context import GlueContext\n",
				"from awsglue.job import Job\n",
				"from datetime import datetime\n",
				"from pyspark.sql.functions import explode, col, to_date\n",
				"from awsglue.dynamicframe import DynamicFrame\n",
				"\n",
				"sc = SparkContext.getOrCreate()\n",
				"glueContext = GlueContext(sc)\n",
				"spark = glueContext.spark_session\n",
				"job = Job(glueContext)"
			]
		},
		{
			"cell_type": "code",
			"execution_count": 10,
			"metadata": {
				"tags": [],
				"trusted": true,
				"vscode": {
					"languageId": "python_glue_session"
				}
			},
			"outputs": [
				{
					"name": "stdout",
					"output_type": "stream",
					"text": [
						"\n"
					]
				}
			],
			"source": [
				"# To get our raw data that need to process from s3 bucket \n",
				"\n",
				"s3_path = \"s3://spotify-etl-project-iman/bronze_layer/to_processed/\"\n",
				"df = glueContext.create_dynamic_frame.from_options(\n",
				"    \"s3\",\n",
				"    {\"paths\": [s3_path]},\n",
				"    format=\"json\"\n",
				")"
			]
		},
		{
			"cell_type": "code",
			"execution_count": 11,
			"metadata": {
				"tags": [],
				"trusted": true,
				"vscode": {
					"languageId": "python_glue_session"
				}
			},
			"outputs": [
				{
					"name": "stdout",
					"output_type": "stream",
					"text": [
						"\n"
					]
				}
			],
			"source": [
				"# Convert json data into a dataframe\n",
				"spotify_df = df.toDF()"
			]
		},
		{
			"cell_type": "code",
			"execution_count": 12,
			"metadata": {
				"tags": [],
				"trusted": true,
				"vscode": {
					"languageId": "python_glue_session"
				}
			},
			"outputs": [
				{
					"name": "stdout",
					"output_type": "stream",
					"text": [
						"\n"
					]
				}
			],
			"source": [
				"# Get album data\n",
				"def process_albums(df):\n",
				"    df = df.withColumn(\"items\", explode(\"items\")).select(\n",
				"        col(\"items.track.album.id\").alias(\"album_id\"),\n",
				"        col(\"items.track.album.name\").alias(\"album_name\"),\n",
				"        col(\"items.track.album.release_date\").alias(\"release_date\"),\n",
				"        col(\"items.track.album.total_tracks\").alias(\"total_tracks\"),\n",
				"        col(\"items.track.album.external_urls.spotify\").alias(\"url\")\n",
				"    ).drop_duplicates([\"album_id\"])\n",
				"    return df"
			]
		},
		{
			"cell_type": "code",
			"execution_count": 15,
			"metadata": {
				"tags": [],
				"trusted": true,
				"vscode": {
					"languageId": "python_glue_session"
				}
			},
			"outputs": [
				{
					"name": "stdout",
					"output_type": "stream",
					"text": [
						"\n"
					]
				}
			],
			"source": [
				"# Get artist data\n",
				"def process_artists(df):\n",
				"    # First, explode the items to get individual tracks\n",
				"    df_items_exploded = df.select(explode(col(\"items\")).alias(\"item\"))\n",
				"    \n",
				"    # Then, explode the artists array within each item to create a row for each artist\n",
				"    df_artists_exploded = df_items_exploded.select(explode(col(\"item.track.artists\")).alias(\"artist\"))\n",
				"    \n",
				"    # Now, select the artist attributes, ensuring each artist is in its own row\n",
				"    df_artists = df_artists_exploded.select(\n",
				"        col(\"artist.id\").alias(\"artist_id\"),\n",
				"        col(\"artist.name\").alias(\"artist_name\"),\n",
				"        col(\"artist.external_urls.spotify\").alias(\"external_url\")\n",
				"    ).drop_duplicates([\"artist_id\"])\n",
				"    \n",
				"    return df_artists"
			]
		},
		{
			"cell_type": "code",
			"execution_count": 16,
			"metadata": {
				"tags": [],
				"trusted": true,
				"vscode": {
					"languageId": "python_glue_session"
				}
			},
			"outputs": [
				{
					"name": "stdout",
					"output_type": "stream",
					"text": [
						"\n"
					]
				}
			],
			"source": [
				"# Get songs data\n",
				"def process_songs(df):\n",
				"    # Explode the items array to create a row for each song\n",
				"    df_exploded = df.select(explode(col(\"items\")).alias(\"item\"))\n",
				"    \n",
				"    # Extract song information from the exploded DataFrame\n",
				"    df_songs = df_exploded.select(\n",
				"        col(\"item.track.id\").alias(\"song_id\"),\n",
				"        col(\"item.track.name\").alias(\"song_name\"),\n",
				"        col(\"item.track.duration_ms\").alias(\"duration_ms\"),\n",
				"        col(\"item.track.external_urls.spotify\").alias(\"url\"),\n",
				"        col(\"item.track.popularity\").alias(\"popularity\"),\n",
				"        col(\"item.added_at\").alias(\"song_added\"),\n",
				"        col(\"item.track.album.id\").alias(\"album_id\"),\n",
				"        col(\"item.track.artists\")[0][\"id\"].alias(\"artist_id\")\n",
				"    ).drop_duplicates([\"song_id\"])\n",
				"    \n",
				"    # Convert string dates in 'song_added' to actual date types\n",
				"    df_songs = df_songs.withColumn(\"song_added\", to_date(col(\"song_added\")))\n",
				"    \n",
				"    return df_songs"
			]
		},
		{
			"cell_type": "code",
			"execution_count": 17,
			"metadata": {
				"tags": [],
				"trusted": true,
				"vscode": {
					"languageId": "python_glue_session"
				}
			},
			"outputs": [
				{
					"name": "stdout",
					"output_type": "stream",
					"text": [
						"NameError: name 'to_date' is not defined\n"
					]
				}
			],
			"source": [
				"#process data\n",
				"album_df = process_albums(spotify_df)\n",
				"artist_df = process_artists(spotify_df)\n",
				"song_df = process_songs(spotify_df)"
			]
		},
		{
			"cell_type": "code",
			"execution_count": 18,
			"metadata": {
				"tags": [],
				"trusted": true,
				"vscode": {
					"languageId": "python_glue_session"
				}
			},
			"outputs": [
				{
					"name": "stdout",
					"output_type": "stream",
					"text": [
						"\n"
					]
				}
			],
			"source": [
				"def write_to_s3(df, path_suffix, format_type=\"csv\"):\n",
				"    # Convert back to DynamicFrame\n",
				"    dynamic_frame = DynamicFrame.fromDF(df, glueContext, \"dynamic_frame\")\n",
				"    \n",
				"    glueContext.write_dynamic_frame.from_options(\n",
				"        frame = dynamic_frame,\n",
				"        connection_type = \"s3\",\n",
				"        connection_options = {\"path\": f\"s3://spotify-etl-project-iman/silver_layer/{path_suffix}/\"},\n",
				"        format = format_type\n",
				"    )"
			]
		},
		{
			"cell_type": "code",
			"execution_count": 19,
			"metadata": {
				"tags": [],
				"trusted": true,
				"vscode": {
					"languageId": "python_glue_session"
				}
			},
			"outputs": [
				{
					"name": "stdout",
					"output_type": "stream",
					"text": [
						"NameError: name 'datetime' is not defined\n"
					]
				}
			],
			"source": [
				"#write data to s3   \n",
				"write_to_s3(album_df, \"album_data/album_transformed_{}\".format(datetime.now().strftime(\"%d-%m-%Y\")), \"csv\")\n",
				"write_to_s3(artist_df, \"artist_data/artist_transformed_{}\".format(datetime.now().strftime(\"%d-%m-%Y\")), \"csv\")\n",
				"write_to_s3(song_df, \"songs_data/songs_transformed_{}\".format(datetime.now().strftime(\"%d-%m-%Y\")), \"csv\")"
			]
		},
		{
			"cell_type": "code",
			"execution_count": null,
			"metadata": {
				"vscode": {
					"languageId": "python_glue_session"
				}
			},
			"outputs": [],
			"source": [
				"job.commit()"
			]
		}
	],
	"metadata": {
		"kernelspec": {
			"display_name": "Glue PySpark",
			"language": "python",
			"name": "glue_pyspark"
		},
		"language_info": {
			"codemirror_mode": {
				"name": "python",
				"version": 3
			},
			"file_extension": ".py",
			"mimetype": "text/x-python",
			"name": "Python_Glue_Session",
			"pygments_lexer": "python3"
		}
	},
	"nbformat": 4,
	"nbformat_minor": 4
}
