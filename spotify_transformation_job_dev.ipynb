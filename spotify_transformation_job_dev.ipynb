{
	"metadata": {
		"kernelspec": {
			"name": "glue_pyspark",
			"display_name": "Glue PySpark",
			"language": "python"
		},
		"language_info": {
			"name": "Python_Glue_Session",
			"mimetype": "text/x-python",
			"codemirror_mode": {
				"name": "python",
				"version": 3
			},
			"pygments_lexer": "python3",
			"file_extension": ".py"
		}
	},
	"nbformat_minor": 4,
	"nbformat": 4,
	"cells": [
		{
			"cell_type": "code",
			"source": "%idle_timeout 2880\n%glue_version 4.0\n%worker_type G.1X\n%number_of_workers 5\n\nimport sys\nfrom awsglue.transforms import *\nfrom awsglue.utils import getResolvedOptions\nfrom pyspark.context import SparkContext\nfrom awsglue.context import GlueContext\nfrom awsglue.job import Job\n  \nsc = SparkContext.getOrCreate()\nglueContext = GlueContext(sc)\nspark = glueContext.spark_session\njob = Job(glueContext)",
			"metadata": {
				"trusted": true,
				"editable": true
			},
			"execution_count": 1,
			"outputs": [
				{
					"name": "stdout",
					"text": "Current idle_timeout is 2880 minutes.\nidle_timeout has been set to 2880 minutes.\nSetting Glue version to: 4.0\nPrevious worker type: G.1X\nSetting new worker type to: G.1X\nPrevious number of workers: 5\nSetting new number of workers to: 5\nTrying to create a Glue session for the kernel.\nSession Type: glueetl\nWorker Type: G.1X\nNumber of Workers: 5\nIdle Timeout: 2880\nSession ID: 0900690c-5970-4317-901b-49dcd4583df5\nApplying the following default arguments:\n--glue_kernel_version 1.0.5\n--enable-glue-datacatalog true\nWaiting for session 0900690c-5970-4317-901b-49dcd4583df5 to get into ready status...\nSession 0900690c-5970-4317-901b-49dcd4583df5 has been created.\n\n",
					"output_type": "stream"
				}
			]
		},
		{
			"cell_type": "code",
			"source": "from pyspark.sql.functions import explode, col",
			"metadata": {
				"trusted": true,
				"tags": []
			},
			"execution_count": 5,
			"outputs": [
				{
					"name": "stdout",
					"text": "\n",
					"output_type": "stream"
				}
			]
		},
		{
			"cell_type": "code",
			"source": "# To get our raw data that need to process from s3 bucket \n\ns3_path = \"s3://spotify-etl-project-iman/bronze_layer/to_processed/\"\ndf = glueContext.create_dynamic_frame.from_options(\n    \"s3\",\n    {\"paths\": [s3_path]},\n    format=\"json\"\n)",
			"metadata": {
				"trusted": true,
				"tags": []
			},
			"execution_count": 2,
			"outputs": [
				{
					"name": "stdout",
					"text": "\n",
					"output_type": "stream"
				}
			]
		},
		{
			"cell_type": "code",
			"source": "# Convert json data into a dataframe\nspotify_df = df.toDF()",
			"metadata": {
				"trusted": true,
				"tags": []
			},
			"execution_count": 4,
			"outputs": [
				{
					"name": "stdout",
					"text": "/opt/amazon/spark/python/lib/pyspark.zip/pyspark/sql/dataframe.py:127: UserWarning: DataFrame constructor is internal. Do not directly use it.\n",
					"output_type": "stream"
				}
			]
		},
		{
			"cell_type": "code",
			"source": "# Get album data\nspotify_df.withColumn(\"items\", explode(\"items\")).select(\n    col(\"items.track.album.id\").alias(\"album_id\"),\n    col(\"items.track.album.name\").alias(\"album_name\"),\n    col(\"items.track.album.release_date\").alias(\"release_date\"),\n    col(\"items.track.album.total_tracks\").alias(\"total_tracks\"),\n    col(\"items.track.album.external_urls.spotify\").alias(\"url\")\n).drop_duplicates([\"album_id\"])",
			"metadata": {},
			"execution_count": null,
			"outputs": []
		},
		{
			"cell_type": "code",
			"source": "# The reason why we  need to  explode is because the data for artist is nested\ndf_artist_exploded = spotify_df.select(explode(col(\"items\")).alias(\"items\")).select(explode(col(\"items.track.artists\")).alias(\"artists\"))",
			"metadata": {
				"trusted": true,
				"tags": []
			},
			"execution_count": 6,
			"outputs": [
				{
					"name": "stdout",
					"text": "\n",
					"output_type": "stream"
				}
			]
		},
		{
			"cell_type": "code",
			"source": "# Get artist data\ndf_artist_exploded.select(\n    col(\"artists.id\").alias(\"artist_id\"),\n    col(\"artists.name\").alias(\"artist_name\"),\n    col(\"artists.external_urls.spotify\").alias(\"url\")\n).drop_duplicates([\"artist_id\"])",
			"metadata": {
				"trusted": true,
				"tags": []
			},
			"execution_count": 7,
			"outputs": [
				{
					"name": "stdout",
					"text": "+----------------------+-------------------+------------------------------------------------------+\n|artist_id             |artist_name        |url                                                   |\n+----------------------+-------------------+------------------------------------------------------+\n|06HL4z0CvFAxyc27GXpf02|Taylor Swift       |https://open.spotify.com/artist/06HL4z0CvFAxyc27GXpf02|\n|0PCCGZ0wGLizHt2KZ7hhA2|Artemas            |https://open.spotify.com/artist/0PCCGZ0wGLizHt2KZ7hhA2|\n|0Y5tJX1MQlPlqiwlOH1tJY|Travis Scott       |https://open.spotify.com/artist/0Y5tJX1MQlPlqiwlOH1tJY|\n|0jPHHnU8GUWEF7rwPE9osY|Jordan Adetunji    |https://open.spotify.com/artist/0jPHHnU8GUWEF7rwPE9osY|\n|11p2E654TTU8e0nZWBR4AL|Mark Ambor         |https://open.spotify.com/artist/11p2E654TTU8e0nZWBR4AL|\n|181bsRPaVXVlUKXrxwZfHK|Megan Thee Stallion|https://open.spotify.com/artist/181bsRPaVXVlUKXrxwZfHK|\n|1QsdzIKkTT5gDFj8GB1cIX|Yseult             |https://open.spotify.com/artist/1QsdzIKkTT5gDFj8GB1cIX|\n|1U1el3k54VvEUzo3ybLPlM|Kali Uchis         |https://open.spotify.com/artist/1U1el3k54VvEUzo3ybLPlM|\n|1WaFQSHVGZQJTbf0BdxdNo|Tommy Richman      |https://open.spotify.com/artist/1WaFQSHVGZQJTbf0BdxdNo|\n|1Xyo4u8uXC1ZmMpatF05PJ|The Weeknd         |https://open.spotify.com/artist/1Xyo4u8uXC1ZmMpatF05PJ|\n+----------------------+-------------------+------------------------------------------------------+\nonly showing top 10 rows\n",
					"output_type": "stream"
				}
			]
		},
		{
			"cell_type": "code",
			"source": "df_songs_explode = spotify_df.select(explode(col(\"items\")).alias(\"items\"))",
			"metadata": {
				"trusted": true,
				"tags": []
			},
			"execution_count": 8,
			"outputs": [
				{
					"name": "stdout",
					"text": "\n",
					"output_type": "stream"
				}
			]
		},
		{
			"cell_type": "code",
			"source": "# Get songs data\ndf_songs_explode.select(\n    col(\"items.track.id\").alias(\"song_id\"),\n    col(\"items.track.name\").alias(\"song_name\"),\n    col(\"items.track.duration_ms\").alias(\"duration_ms\"),\n    col(\"items.track.popularity\").alias(\"popularity\"),\n    col(\"items.track.external_urls.spotify\").alias(\"url\"),\n    col(\"items.added_at\").alias(\"added_date\"),\n    col(\"items.track.album.id\").alias(\"album_id\"),\n    col(\"items.track.artists\")[0][\"id\"].alias(\"artist_id\")\n).drop_duplicates([\"song_id\"])",
			"metadata": {
				"trusted": true,
				"tags": []
			},
			"execution_count": 9,
			"outputs": [
				{
					"name": "stdout",
					"text": "DataFrame[song_id: string, song_name: string, duration_ms: int, popularity: int, url: string, added_date: string, album_id: string, artist_id: string]\n",
					"output_type": "stream"
				}
			]
		},
		{
			"cell_type": "code",
			"source": "",
			"metadata": {},
			"execution_count": null,
			"outputs": []
		}
	]
}